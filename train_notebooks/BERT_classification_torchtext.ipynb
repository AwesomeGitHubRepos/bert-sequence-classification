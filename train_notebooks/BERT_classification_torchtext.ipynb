{
 "cells": [
  {
   "cell_type": "code",
   "execution_count": null,
   "metadata": {
    "colab": {
     "base_uri": "https://localhost:8080/",
     "height": 63
    },
    "colab_type": "code",
    "executionInfo": {
     "elapsed": 2695,
     "status": "ok",
     "timestamp": 1583082252298,
     "user": {
      "displayName": "Oliver Proud",
      "photoUrl": "https://lh3.googleusercontent.com/a-/AOh14Gg25dzseb06lrCpbTW77J6XMe9ElyuvBNwYUIPBJg=s64",
      "userId": "04598355103556417611"
     },
     "user_tz": 0
    },
    "id": "cF3yHxFtY598",
    "outputId": "e1422184-ea48-4141-e87a-98ff80cedbd5"
   },
   "outputs": [],
   "source": [
    "from sklearn.model_selection import train_test_split\n",
    "from transformers import BertModel, BertTokenizer, BertForSequenceClassification\n",
    "import torch.nn as nn\n",
    "import pandas as pd\n",
    "import numpy as np\n",
    "import random\n",
    "import torch\n",
    "import time"
   ]
  },
  {
   "cell_type": "code",
   "execution_count": null,
   "metadata": {
    "colab": {},
    "colab_type": "code",
    "id": "eH2tK0o3Y5-B"
   },
   "outputs": [],
   "source": [
    "MODELS = [(BertModel, BertTokenizer, 'bert-base-uncased')]"
   ]
  },
  {
   "cell_type": "code",
   "execution_count": null,
   "metadata": {
    "colab": {},
    "colab_type": "code",
    "id": "Y9dkdcteY5-E"
   },
   "outputs": [],
   "source": [
    "for model_class, tokenizer_class, pretrained_weights in MODELS:\n",
    "    \n",
    "    tokenizer = tokenizer_class.from_pretrained(pretrained_weights)\n",
    "    bert_model = model_class.from_pretrained(pretrained_weights)"
   ]
  },
  {
   "cell_type": "code",
   "execution_count": null,
   "metadata": {
    "colab": {},
    "colab_type": "code",
    "id": "VFK-8NPXY5-J"
   },
   "outputs": [],
   "source": [
    "labels_list = [\"toxic\", \"severe_toxic\", \"obscene\", \"threat\", \"insult\", \"identity_hate\"]"
   ]
  },
  {
   "cell_type": "code",
   "execution_count": null,
   "metadata": {
    "colab": {},
    "colab_type": "code",
    "id": "Bt2HIafoY5-M"
   },
   "outputs": [],
   "source": [
    "device = torch.device('cuda' if torch.cuda.is_available() else 'cpu')"
   ]
  },
  {
   "cell_type": "code",
   "execution_count": null,
   "metadata": {
    "colab": {},
    "colab_type": "code",
    "id": "qL4h97pPY5-P"
   },
   "outputs": [],
   "source": [
    "def tokenize_text(text):\n",
    "    \n",
    "    max_input_size = tokenizer.max_model_input_sizes['bert-base-uncased']\n",
    "    \n",
    "    tokenized_text = tokenizer.tokenize(text)\n",
    "    tokenized_text = tokenized_text[:max_input_size - 2]\n",
    "\n",
    "    return tokenized_text"
   ]
  },
  {
   "cell_type": "code",
   "execution_count": null,
   "metadata": {
    "colab": {},
    "colab_type": "code",
    "id": "_xSwRhAeY5-V"
   },
   "outputs": [],
   "source": [
    "from torchtext.data import BucketIterator, TabularDataset, Dataset, Field, LabelField\n",
    "\n",
    "TEXT = Field(batch_first=True, \n",
    "             use_vocab=False,\n",
    "             tokenize=tokenize_text, \n",
    "             preprocessing=tokenizer.convert_tokens_to_ids, \n",
    "             init_token=tokenizer.cls_token_id,\n",
    "             eos_token=tokenizer.sep_token_id, \n",
    "             pad_token=tokenizer.pad_token_id, \n",
    "             unk_token=tokenizer.unk_token_id)\n",
    "\n",
    "LABEL = LabelField(dtype=torch.float)\n",
    "\n",
    "train_fields = [(\"id\", None), \n",
    "                (\"comment_text\", TEXT), \n",
    "                (\"toxic\", LABEL),\n",
    "                (\"severe_toxic\", LABEL),\n",
    "                (\"obscene\", LABEL), \n",
    "                (\"threat\", LABEL),\n",
    "                (\"insult\", LABEL),\n",
    "                (\"identity_hate\", LABEL)]\n",
    "\n",
    "data = TabularDataset('/content/drive/My Drive/data/train.csv',\n",
    "                      format='csv', \n",
    "                      fields=train_fields, \n",
    "                      skip_header=True)"
   ]
  },
  {
   "cell_type": "code",
   "execution_count": null,
   "metadata": {
    "colab": {},
    "colab_type": "code",
    "id": "jkqtmYmTxFlx"
   },
   "outputs": [],
   "source": [
    "train_data, test_data = data.split(0.9, random_state=random.seed(42))\n",
    "train_data, valid_data = train_data.split(0.9, random_state=random.seed(42))\n",
    "\n",
    "LABEL.build_vocab(train_data)\n",
    "\n",
    "train_iterator, valid_iterator, test_iterator = BucketIterator.splits((train_data, valid_data, test_data), batch_size=256, device=device, sort=False)"
   ]
  },
  {
   "cell_type": "code",
   "execution_count": null,
   "metadata": {
    "colab": {
     "base_uri": "https://localhost:8080/",
     "height": 34
    },
    "colab_type": "code",
    "executionInfo": {
     "elapsed": 218106,
     "status": "ok",
     "timestamp": 1583082467756,
     "user": {
      "displayName": "Oliver Proud",
      "photoUrl": "https://lh3.googleusercontent.com/a-/AOh14Gg25dzseb06lrCpbTW77J6XMe9ElyuvBNwYUIPBJg=s64",
      "userId": "04598355103556417611"
     },
     "user_tz": 0
    },
    "id": "lupd6v3OCWVW",
    "outputId": "e7a3e311-8a7c-4b16-921d-3abb07f57c7c"
   },
   "outputs": [
    {
     "name": "stdout",
     "output_type": "stream",
     "text": [
      "129253 14361 15957\n"
     ]
    }
   ],
   "source": [
    "print(len(train_data), len(valid_data), len(test_data))"
   ]
  },
  {
   "cell_type": "code",
   "execution_count": null,
   "metadata": {
    "colab": {},
    "colab_type": "code",
    "id": "O3UKlBTWywL-"
   },
   "outputs": [],
   "source": [
    "# small_train_data, train_data = train_data.split(0.2)\n",
    "# small_train_iterator = BucketIterator(small_train_data, batch_size=256, device=device)"
   ]
  },
  {
   "cell_type": "code",
   "execution_count": null,
   "metadata": {
    "colab": {},
    "colab_type": "code",
    "id": "wj6FjGrlY5-d"
   },
   "outputs": [],
   "source": [
    "# len(small_train_data)"
   ]
  },
  {
   "cell_type": "code",
   "execution_count": null,
   "metadata": {
    "colab": {
     "base_uri": "https://localhost:8080/",
     "height": 1000
    },
    "colab_type": "code",
    "executionInfo": {
     "elapsed": 218091,
     "status": "ok",
     "timestamp": 1583082467758,
     "user": {
      "displayName": "Oliver Proud",
      "photoUrl": "https://lh3.googleusercontent.com/a-/AOh14Gg25dzseb06lrCpbTW77J6XMe9ElyuvBNwYUIPBJg=s64",
      "userId": "04598355103556417611"
     },
     "user_tz": 0
    },
    "id": "zmJV2v62Y5-h",
    "outputId": "99c569ef-83ae-4489-d1d4-1451f8157c4e"
   },
   "outputs": [
    {
     "data": {
      "text/plain": [
       "{'comment_text': [7065,\n",
       "  8743,\n",
       "  1999,\n",
       "  2189,\n",
       "  1010,\n",
       "  2048,\n",
       "  21817,\n",
       "  2015,\n",
       "  4606,\n",
       "  1037,\n",
       "  4100,\n",
       "  5524,\n",
       "  19635,\n",
       "  1012,\n",
       "  6203,\n",
       "  5980,\n",
       "  2135,\n",
       "  2239,\n",
       "  1010,\n",
       "  1045,\n",
       "  5993,\n",
       "  2007,\n",
       "  2017,\n",
       "  2008,\n",
       "  2302,\n",
       "  1037,\n",
       "  12667,\n",
       "  2057,\n",
       "  2323,\n",
       "  2025,\n",
       "  2421,\n",
       "  1037,\n",
       "  2843,\n",
       "  1997,\n",
       "  3793,\n",
       "  2006,\n",
       "  2023,\n",
       "  1012,\n",
       "  2174,\n",
       "  1010,\n",
       "  2130,\n",
       "  2065,\n",
       "  1045,\n",
       "  3685,\n",
       "  2424,\n",
       "  1037,\n",
       "  12667,\n",
       "  2157,\n",
       "  2085,\n",
       "  1010,\n",
       "  1996,\n",
       "  2755,\n",
       "  3685,\n",
       "  2022,\n",
       "  1999,\n",
       "  7593,\n",
       "  2144,\n",
       "  2009,\n",
       "  2003,\n",
       "  2004,\n",
       "  9398,\n",
       "  2004,\n",
       "  1015,\n",
       "  1009,\n",
       "  1015,\n",
       "  1027,\n",
       "  1016,\n",
       "  1010,\n",
       "  2005,\n",
       "  2029,\n",
       "  1045,\n",
       "  2052,\n",
       "  2025,\n",
       "  2113,\n",
       "  2129,\n",
       "  2000,\n",
       "  2424,\n",
       "  1037,\n",
       "  12667,\n",
       "  1012,\n",
       "  2071,\n",
       "  2057,\n",
       "  2025,\n",
       "  5993,\n",
       "  2006,\n",
       "  2164,\n",
       "  2023,\n",
       "  2028,\n",
       "  6251,\n",
       "  1999,\n",
       "  1996,\n",
       "  11621,\n",
       "  29426,\n",
       "  2015,\n",
       "  2930,\n",
       "  1010,\n",
       "  5327,\n",
       "  2008,\n",
       "  2619,\n",
       "  2097,\n",
       "  2424,\n",
       "  2023,\n",
       "  3716,\n",
       "  6179,\n",
       "  1998,\n",
       "  1013,\n",
       "  2030,\n",
       "  2097,\n",
       "  2424,\n",
       "  1037,\n",
       "  3120,\n",
       "  2005,\n",
       "  2009,\n",
       "  1029,\n",
       "  2057,\n",
       "  2071,\n",
       "  22476,\n",
       "  1996,\n",
       "  1063,\n",
       "  1063,\n",
       "  2755,\n",
       "  1065,\n",
       "  1065,\n",
       "  6415,\n",
       "  1010,\n",
       "  2065,\n",
       "  2017,\n",
       "  2066,\n",
       "  1029,\n",
       "  100,\n",
       "  1006,\n",
       "  2831,\n",
       "  1007],\n",
       " 'identity_hate': '0',\n",
       " 'insult': '0',\n",
       " 'obscene': '0',\n",
       " 'severe_toxic': '0',\n",
       " 'threat': '0',\n",
       " 'toxic': '0'}"
      ]
     },
     "execution_count": 13,
     "metadata": {
      "tags": []
     },
     "output_type": "execute_result"
    }
   ],
   "source": [
    "vars(train_data.examples[0])"
   ]
  },
  {
   "cell_type": "code",
   "execution_count": null,
   "metadata": {
    "colab": {},
    "colab_type": "code",
    "id": "_GrDFvx8Y5-k"
   },
   "outputs": [],
   "source": [
    "# https://github.com/keitakurita/\n",
    "\n",
    "class CustomDataloader:\n",
    "    def __init__(self, iterator, x, y):\n",
    "        self.iterator, self.x, self.y = iterator, x, y # we pass in the list of attributes for x and y\n",
    "    \n",
    "    def __iter__(self):\n",
    "        for batch in self.iterator:\n",
    "            x = getattr(batch, self.x) # we assume only one input in this wrapper\n",
    "            \n",
    "            if self.y is not None: # we will concatenate y into a single tensor\n",
    "                y = torch.cat([getattr(batch, feat).unsqueeze(1) for feat in self.y], dim=1).float()\n",
    "            else:\n",
    "                y = torch.zeros((1))\n",
    "\n",
    "            yield (x, y)\n",
    "    \n",
    "    def __len__(self):\n",
    "        return len(self.iterator)"
   ]
  },
  {
   "cell_type": "code",
   "execution_count": null,
   "metadata": {
    "colab": {},
    "colab_type": "code",
    "id": "udH0k9GOY5-m"
   },
   "outputs": [],
   "source": [
    "train_dl = CustomDataloader(train_iterator, \"comment_text\", labels_list)\n",
    "valid_dl = CustomDataloader(valid_iterator, \"comment_text\", labels_list)\n",
    "test_dl  = CustomDataloader(test_iterator, \"comment_text\", labels_list)\n",
    "\n",
    "# small_train_dl = CustomDataloader(small_train_iterator, \"comment_text\", labels_list)"
   ]
  },
  {
   "cell_type": "code",
   "execution_count": null,
   "metadata": {
    "colab": {
     "base_uri": "https://localhost:8080/",
     "height": 255
    },
    "colab_type": "code",
    "executionInfo": {
     "elapsed": 221212,
     "status": "ok",
     "timestamp": 1583082470893,
     "user": {
      "displayName": "Oliver Proud",
      "photoUrl": "https://lh3.googleusercontent.com/a-/AOh14Gg25dzseb06lrCpbTW77J6XMe9ElyuvBNwYUIPBJg=s64",
      "userId": "04598355103556417611"
     },
     "user_tz": 0
    },
    "id": "eQA82sYhY5-s",
    "outputId": "870ac220-2193-4c05-efb6-962231acac93"
   },
   "outputs": [
    {
     "data": {
      "text/plain": [
       "(tensor([[  101, 17813,  2515,  ...,     0,     0,     0],\n",
       "         [  101, 24975,  6581,  ...,     0,     0,     0],\n",
       "         [  101,  1000, 26203,  ...,     0,     0,     0],\n",
       "         ...,\n",
       "         [  101,  1000,  1045,  ...,     0,     0,     0],\n",
       "         [  101,  1045,  2333,  ...,     0,     0,     0],\n",
       "         [  101, 15333,  6806,  ...,     0,     0,     0]], device='cuda:0'),\n",
       " tensor([[1., 0., 0., 0., 0., 0.],\n",
       "         [0., 0., 0., 0., 0., 0.],\n",
       "         [0., 0., 0., 0., 0., 0.],\n",
       "         ...,\n",
       "         [0., 0., 0., 0., 0., 0.],\n",
       "         [0., 0., 0., 0., 0., 0.],\n",
       "         [0., 0., 0., 0., 0., 0.]], device='cuda:0'))"
      ]
     },
     "execution_count": 16,
     "metadata": {
      "tags": []
     },
     "output_type": "execute_result"
    }
   ],
   "source": [
    "next(iter(train_dl))"
   ]
  },
  {
   "cell_type": "code",
   "execution_count": null,
   "metadata": {
    "colab": {},
    "colab_type": "code",
    "id": "lsOO4AONY5-u"
   },
   "outputs": [],
   "source": [
    "class linear_model(nn.Module):\n",
    "    def __init__(self, bert_model, num_labels):\n",
    "        super().__init__()\n",
    "        \n",
    "        embed_size = bert_model.config.hidden_size\n",
    "        dropout_prob = bert_model.config.hidden_dropout_prob\n",
    "        \n",
    "        self.bert = bert_model   \n",
    "        \n",
    "        self.pre_classifier = nn.Linear(embed_size, embed_size)\n",
    "        \n",
    "        self.dropout = nn.Dropout(0.2)\n",
    "        \n",
    "        self.classifier = nn.Linear(embed_size, num_labels)\n",
    "        \n",
    "    def forward(self, x):\n",
    "        \n",
    "        # Get BERT embeddings for input_ids \n",
    "        with torch.no_grad():\n",
    "            # (batch_size, seq_len, hidden_size)\n",
    "            hidden = self.bert(x)[0] \n",
    "        \n",
    "        # (batch_size, hidden_size)\n",
    "        hidden = hidden[:,0]\n",
    "        \n",
    "        # (batch_size, hidden_size)\n",
    "        pooled_output = self.pre_classifier(hidden)  \n",
    "        # (batch_size, hidden_size)\n",
    "        pooled_output = nn.ReLU()(pooled_output)  \n",
    "        # (batch_size, hidden_size)\n",
    "        pooled_output = self.dropout(pooled_output)  \n",
    "        # (batch_size, hidden_size)\n",
    "        logits = self.classifier(pooled_output)  \n",
    "\n",
    "        return logits\n"
   ]
  },
  {
   "cell_type": "code",
   "execution_count": null,
   "metadata": {
    "colab": {},
    "colab_type": "code",
    "id": "qNvEoiY-Y5-y"
   },
   "outputs": [],
   "source": [
    "model = linear_model(bert_model, len(labels_list))"
   ]
  },
  {
   "cell_type": "code",
   "execution_count": null,
   "metadata": {
    "colab": {},
    "colab_type": "code",
    "id": "8-mIKjImY5-1"
   },
   "outputs": [],
   "source": [
    "for name, parameters in model.named_parameters():  \n",
    "    if name.startswith('bert'):\n",
    "        parameters.requires_grad = False"
   ]
  },
  {
   "cell_type": "code",
   "execution_count": null,
   "metadata": {
    "colab": {},
    "colab_type": "code",
    "id": "svRfHDMeY5-4"
   },
   "outputs": [],
   "source": [
    "import torch.optim as optim\n",
    "\n",
    "criterion = nn.BCEWithLogitsLoss()\n",
    "optimizer = optim.Adam(model.parameters())"
   ]
  },
  {
   "cell_type": "code",
   "execution_count": null,
   "metadata": {
    "colab": {},
    "colab_type": "code",
    "id": "Cn3NQSa0Y5-7"
   },
   "outputs": [],
   "source": [
    "model = model.to(device)\n",
    "criterion = criterion.to(device)"
   ]
  },
  {
   "cell_type": "code",
   "execution_count": null,
   "metadata": {
    "colab": {
     "base_uri": "https://localhost:8080/",
     "height": 34
    },
    "colab_type": "code",
    "executionInfo": {
     "elapsed": 221465,
     "status": "ok",
     "timestamp": 1583082471181,
     "user": {
      "displayName": "Oliver Proud",
      "photoUrl": "https://lh3.googleusercontent.com/a-/AOh14Gg25dzseb06lrCpbTW77J6XMe9ElyuvBNwYUIPBJg=s64",
      "userId": "04598355103556417611"
     },
     "user_tz": 0
    },
    "id": "u95uzsmsY5--",
    "outputId": "5cf1fc3c-1a56-4326-cf58-fe321ee401f5"
   },
   "outputs": [
    {
     "name": "stdout",
     "output_type": "stream",
     "text": [
      "The model has 595,206 trainable parameters\n"
     ]
    }
   ],
   "source": [
    "def count_parameters(model):\n",
    "    return sum(p.numel() for p in model.parameters() if p.requires_grad)\n",
    "\n",
    "print(f'The model has {count_parameters(model):,} trainable parameters')"
   ]
  },
  {
   "cell_type": "code",
   "execution_count": null,
   "metadata": {
    "colab": {},
    "colab_type": "code",
    "id": "zkF-QTEbY5_B"
   },
   "outputs": [],
   "source": [
    "def multilabel_acc(pred, y):\n",
    "\n",
    "    pred = pred.sigmoid()\n",
    "    pred = pred.detach().cpu().numpy()\n",
    "    y = y.detach().cpu().numpy()\n",
    "    outputs = np.argmax(pred, axis=1)\n",
    "    real_vals = np.argmax(y, axis=1)\n",
    "    return np.mean(outputs == real_vals)"
   ]
  },
  {
   "cell_type": "code",
   "execution_count": null,
   "metadata": {
    "colab": {},
    "colab_type": "code",
    "id": "C7P8Sog2Y5_D"
   },
   "outputs": [],
   "source": [
    "def train(model, iterator, optimizer, criterion):\n",
    "    \n",
    "    train_loss = 0\n",
    "    train_acc = 0\n",
    "    \n",
    "    model.train()\n",
    "    \n",
    "    for x, y in iterator:\n",
    "        \n",
    "        optimizer.zero_grad()\n",
    "\n",
    "        outputs = model(x)\n",
    "        \n",
    "        # loss for one batch in iterator\n",
    "        loss = criterion(outputs, y)\n",
    "        \n",
    "        # acc for one batch in iterator\n",
    "        acc = multilabel_acc(outputs, y)\n",
    "\n",
    "        loss.backward()\n",
    "        \n",
    "        optimizer.step()\n",
    "        \n",
    "        # accumulate accuracies and losses\n",
    "        train_loss += loss.item()\n",
    "        train_acc += acc.item()\n",
    "\n",
    "    return train_loss / len(iterator) , train_acc / len(iterator)"
   ]
  },
  {
   "cell_type": "code",
   "execution_count": null,
   "metadata": {
    "colab": {},
    "colab_type": "code",
    "id": "qUE6T3hmpRib"
   },
   "outputs": [],
   "source": [
    "def evaluate(model, iterator, criterion):\n",
    "\n",
    "    eval_loss = 0\n",
    "    eval_acc = 0\n",
    "\n",
    "    model.eval()\n",
    "\n",
    "    with torch.no_grad():\n",
    "        for x, y in iterator:\n",
    "\n",
    "            outputs = model(x)\n",
    "\n",
    "            loss = criterion(outputs, y)\n",
    "\n",
    "            acc = multilabel_acc(outputs, y)\n",
    "\n",
    "            eval_loss += loss.item()    \n",
    "            eval_acc += acc.item()\n",
    "\n",
    "    return eval_loss / len(iterator), eval_acc / len(iterator)"
   ]
  },
  {
   "cell_type": "code",
   "execution_count": null,
   "metadata": {
    "colab": {
     "base_uri": "https://localhost:8080/",
     "height": 272
    },
    "colab_type": "code",
    "executionInfo": {
     "elapsed": 966008,
     "status": "ok",
     "timestamp": 1583094609037,
     "user": {
      "displayName": "Oliver Proud",
      "photoUrl": "https://lh3.googleusercontent.com/a-/AOh14Gg25dzseb06lrCpbTW77J6XMe9ElyuvBNwYUIPBJg=s64",
      "userId": "04598355103556417611"
     },
     "user_tz": 0
    },
    "id": "L_xhNR01Y5_G",
    "outputId": "32121433-c00d-4b80-a59c-05c3e6b82a54"
   },
   "outputs": [
    {
     "name": "stdout",
     "output_type": "stream",
     "text": [
      "Epoch: 01 | Time: 40m\n",
      "Train Loss: 0.134 | Train Acc: 93.22%\n",
      "Valid Loss: 0.114 | Valid Acc: 99.42%\n",
      "Epoch: 02 | Time: 40m\n",
      "Train Loss: 0.124 | Train Acc: 99.26%\n",
      "Valid Loss: 0.119 | Valid Acc: 99.42%\n",
      "Epoch: 03 | Time: 40m\n",
      "Train Loss: 0.123 | Train Acc: 99.30%\n",
      "Valid Loss: 0.117 | Valid Acc: 99.42%\n",
      "Epoch: 04 | Time: 40m\n",
      "Train Loss: 0.122 | Train Acc: 99.26%\n",
      "Valid Loss: 0.109 | Valid Acc: 98.86%\n",
      "Epoch: 05 | Time: 40m\n",
      "Train Loss: 0.122 | Train Acc: 99.19%\n",
      "Valid Loss: 0.110 | Valid Acc: 99.42%\n"
     ]
    }
   ],
   "source": [
    "epochs = 5\n",
    "\n",
    "for epoch in range(epochs):\n",
    "    \n",
    "    start_epoch = time.time()\n",
    "    \n",
    "    train_loss, train_acc = train(model, train_dl, optimizer, criterion)\n",
    "    valid_loss, valid_acc = evaluate(model, valid_dl, criterion)\n",
    "    \n",
    "    end_epoch = time.time()\n",
    "\n",
    "    best_loss = float(\"inf\")\n",
    "    if valid_loss < best_loss:\n",
    "      best_loss = valid_loss\n",
    "      torch.save(model.state_dict(), \"/content/drive/My Drive/data/toxic_model.pt\")\n",
    "    \n",
    "    print(f\"Epoch: {epoch+1:02} | Time: {int((end_epoch - start_epoch) / 60)}m\")\n",
    "    print(f\"Train Loss: {train_loss:.3f} | Train Acc: {train_acc * 100:.2f}%\")\n",
    "    print(f\"Valid Loss: {valid_loss:.3f} | Valid Acc: {valid_acc * 100:.2f}%\")"
   ]
  },
  {
   "cell_type": "code",
   "execution_count": null,
   "metadata": {
    "colab": {
     "base_uri": "https://localhost:8080/",
     "height": 34
    },
    "colab_type": "code",
    "executionInfo": {
     "elapsed": 257394,
     "status": "ok",
     "timestamp": 1583094866420,
     "user": {
      "displayName": "Oliver Proud",
      "photoUrl": "https://lh3.googleusercontent.com/a-/AOh14Gg25dzseb06lrCpbTW77J6XMe9ElyuvBNwYUIPBJg=s64",
      "userId": "04598355103556417611"
     },
     "user_tz": 0
    },
    "id": "IeSNJCncFWrf",
    "outputId": "5f9aced1-ab25-4b77-e131-a5eeca65611c"
   },
   "outputs": [
    {
     "name": "stdout",
     "output_type": "stream",
     "text": [
      "Test Loss: 0.106 | Test Acc: 99.46%\n"
     ]
    }
   ],
   "source": [
    "model.load_state_dict(torch.load(\"/content/drive/My Drive/data/toxic_model.pt\"))\n",
    "\n",
    "test_loss, test_acc = evaluate(model, test_dl, criterion)\n",
    "\n",
    "print(f'Test Loss: {test_loss:.3f} | Test Acc: {test_acc*100:.2f}%')"
   ]
  },
  {
   "cell_type": "code",
   "execution_count": null,
   "metadata": {
    "colab": {},
    "colab_type": "code",
    "id": "M-om4UGRY5_I"
   },
   "outputs": [],
   "source": [
    "def predict(model, tokenizer, text):\n",
    "    \n",
    "    model.eval()\n",
    "    \n",
    "    tokenized = tokenizer.encode(text, add_special_tokens=True)\n",
    "    tok_tensor = torch.tensor(tokenized).to(device)\n",
    "    tok_tensor = tok_tensor.unsqueeze(0)\n",
    "    logits = model(tok_tensor)\n",
    "    pred = torch.sigmoid(logits)\n",
    "    pred = pred.detach().cpu().numpy()\n",
    "    \n",
    "    result_df = pd.DataFrame(pred, columns=labels_list)\n",
    "    results = result_df.to_dict(\"record\")\n",
    "\n",
    "    return [sorted(x.items(), key=lambda kv: kv[1], reverse=True) for x in results][0]"
   ]
  },
  {
   "cell_type": "code",
   "execution_count": null,
   "metadata": {
    "colab": {
     "base_uri": "https://localhost:8080/",
     "height": 119
    },
    "colab_type": "code",
    "executionInfo": {
     "elapsed": 604,
     "status": "ok",
     "timestamp": 1583096665878,
     "user": {
      "displayName": "Oliver Proud",
      "photoUrl": "https://lh3.googleusercontent.com/a-/AOh14Gg25dzseb06lrCpbTW77J6XMe9ElyuvBNwYUIPBJg=s64",
      "userId": "04598355103556417611"
     },
     "user_tz": 0
    },
    "id": "SGhm5zt4Y5_P",
    "outputId": "fd22f75f-7a05-40dd-fc05-f8f5cbb47890"
   },
   "outputs": [
    {
     "data": {
      "text/plain": [
       "[('toxic', 0.12670782208442688),\n",
       " ('insult', 0.059123363345861435),\n",
       " ('obscene', 0.03964898735284805),\n",
       " ('threat', 0.01795859821140766),\n",
       " ('severe_toxic', 0.009807408787310123),\n",
       " ('identity_hate', 0.003980768844485283)]"
      ]
     },
     "execution_count": 34,
     "metadata": {
      "tags": []
     },
     "output_type": "execute_result"
    }
   ],
   "source": [
    "predict(model, tokenizer, \"i love you\")"
   ]
  },
  {
   "cell_type": "code",
   "execution_count": null,
   "metadata": {
    "colab": {},
    "colab_type": "code",
    "id": "LCho1TxW6X84"
   },
   "outputs": [],
   "source": []
  }
 ],
 "metadata": {
  "accelerator": "GPU",
  "colab": {
   "collapsed_sections": [],
   "name": "BERT_classification_torchtext.ipynb",
   "provenance": []
  },
  "kernelspec": {
   "display_name": "Python 3",
   "language": "python",
   "name": "python3"
  },
  "language_info": {
   "codemirror_mode": {
    "name": "ipython",
    "version": 3
   },
   "file_extension": ".py",
   "mimetype": "text/x-python",
   "name": "python",
   "nbconvert_exporter": "python",
   "pygments_lexer": "ipython3",
   "version": "3.6.8"
  }
 },
 "nbformat": 4,
 "nbformat_minor": 4
}
